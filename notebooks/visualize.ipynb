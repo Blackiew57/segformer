{
 "cells": [
  {
   "cell_type": "code",
   "execution_count": 9,
   "id": "7a4e2dd5",
   "metadata": {},
   "outputs": [],
   "source": [
    "import cv2\n",
    "import numpy as np\n",
    "import os\n",
    "import matplotlib.pyplot as plt\n",
    "\n",
    "from PIL import Image"
   ]
  },
  {
   "cell_type": "code",
   "execution_count": 26,
   "id": "324bbbf3",
   "metadata": {},
   "outputs": [
    {
     "name": "stderr",
     "output_type": "stream",
     "text": [
      "[ WARN:0@8631.010] global loadsave.cpp:241 findDecoder imread_('../dataset/train/images/GBIAH_076.jpg'): can't open/read file: check file path/integrity\n"
     ]
    }
   ],
   "source": [
    "img_71 = cv2.imread('../dataset/train/images/GBIAH_076.jpg')\n",
    "img_71_png = cv2.imread('./b5_pred_image_GBIAH_067_visualized.png')\n",
    "img_96 = cv2.imread('../dataset/GBIAH_096.jpg')\n",
    "img_96_png = cv2.imread('./b5_pred_image_GBIAH_096_visualized.png')"
   ]
  },
  {
   "cell_type": "code",
   "execution_count": 23,
   "id": "ea6a444e",
   "metadata": {},
   "outputs": [],
   "source": [
    "gray_mask = cv2.cvtColor(img_71_png, cv2.COLOR_BGR2GRAY)\n",
    "\n",
    "yellow_overlay = np.zeros_like(img_71)\n",
    "yellow_overlay[gray_mask > 200] = [0, 255, 255]\n",
    "\n",
    "blended = cv2.addWeighted(img_71, 0.80, yellow_overlay, 0.20, 0)\n",
    "\n",
    "# cv2.imshow('Blended Image', blended)\n",
    "# cv2.waitKey(0)\n",
    "# cv2.destroyAllWindows()\n",
    "\n",
    "output_path = '../output/b5_GBIAH_067.png'\n",
    "blended_image = Image.fromarray(cv2.cvtColor(blended, cv2.COLOR_BGR2RGB))\n",
    "blended_image.save(output_path)"
   ]
  },
  {
   "cell_type": "code",
   "execution_count": 27,
   "id": "c7a3685e",
   "metadata": {},
   "outputs": [],
   "source": [
    "gray_mask_96 = cv2.cvtColor(img_96_png, cv2.COLOR_BGR2GRAY)\n",
    "\n",
    "overlay = np.zeros_like(img_96)\n",
    "overlay[gray_mask_96 > 200] = [0, 255, 255]\n",
    "\n",
    "blended_96 = cv2.addWeighted(img_96, 0.8, overlay, 0.2, 0)\n",
    "\n",
    "output_path = '../output/b5_GBIAH_096.png'\n",
    "blend_image = Image.fromarray(cv2.cvtColor(blended_96, cv2.COLOR_BGR2RGB))\n",
    "blend_image.save(output_path)\n"
   ]
  },
  {
   "cell_type": "code",
   "execution_count": null,
   "id": "5463fc69",
   "metadata": {},
   "outputs": [],
   "source": [
    "labels = glob"
   ]
  }
 ],
 "metadata": {
  "kernelspec": {
   "display_name": "sklearn",
   "language": "python",
   "name": "python3"
  },
  "language_info": {
   "codemirror_mode": {
    "name": "ipython",
    "version": 3
   },
   "file_extension": ".py",
   "mimetype": "text/x-python",
   "name": "python",
   "nbconvert_exporter": "python",
   "pygments_lexer": "ipython3",
   "version": "3.10.9"
  }
 },
 "nbformat": 4,
 "nbformat_minor": 5
}
