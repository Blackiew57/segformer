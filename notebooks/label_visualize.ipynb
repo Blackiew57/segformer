{
 "cells": [
  {
   "cell_type": "code",
   "execution_count": 4,
   "id": "d8ca0763",
   "metadata": {},
   "outputs": [],
   "source": [
    "import glob\n",
    "import cv2\n",
    "import numpy as np\n",
    "\n",
    "from PIL import Image\n"
   ]
  },
  {
   "cell_type": "code",
   "execution_count": 13,
   "id": "447204dc",
   "metadata": {},
   "outputs": [
    {
     "data": {
      "text/plain": [
       "['../dataset/val/labels/GBIAH_088.png',\n",
       " '../dataset/val/labels/GBIAH_077.png',\n",
       " '../dataset/val/labels/GBIAH_103.png',\n",
       " '../dataset/val/labels/GBIAH_117.png',\n",
       " '../dataset/val/labels/GBIAH_116.png',\n",
       " '../dataset/val/labels/GBIAH_102.png',\n",
       " '../dataset/val/labels/GBIAH_076.png',\n",
       " '../dataset/val/labels/GBIAH_089.png',\n",
       " '../dataset/val/labels/GBIAH_074.png',\n",
       " '../dataset/val/labels/GBIAH_114.png',\n",
       " '../dataset/val/labels/GBIAH_100.png',\n",
       " '../dataset/val/labels/GBIAH_101.png',\n",
       " '../dataset/val/labels/GBIAH_115.png',\n",
       " '../dataset/val/labels/GBIAH_075.png',\n",
       " '../dataset/val/labels/GBIAH_071.png',\n",
       " '../dataset/val/labels/GBIAH_111.png',\n",
       " '../dataset/val/labels/GBIAH_105.png',\n",
       " '../dataset/val/labels/GBIAH_104.png',\n",
       " '../dataset/val/labels/GBIAH_110.png',\n",
       " '../dataset/val/labels/GBIAH_099.png',\n",
       " '../dataset/val/labels/GBIAH_072.png',\n",
       " '../dataset/val/labels/GBIAH_106.png',\n",
       " '../dataset/val/labels/GBIAH_112.png',\n",
       " '../dataset/val/labels/GBIAH_113.png',\n",
       " '../dataset/val/labels/GBIAH_107.png',\n",
       " '../dataset/val/labels/GBIAH_073.png',\n",
       " '../dataset/val/labels/GBIAH_098.png',\n",
       " '../dataset/val/labels/GBIAH_095.png',\n",
       " '../dataset/val/labels/GBIAH_081.png',\n",
       " '../dataset/val/labels/GBIAH_080.png',\n",
       " '../dataset/val/labels/GBIAH_094.png',\n",
       " '../dataset/val/labels/GBIAH_082.png',\n",
       " '../dataset/val/labels/GBIAH_096.png',\n",
       " '../dataset/val/labels/GBIAH_109.png',\n",
       " '../dataset/val/labels/GBIAH_108.png',\n",
       " '../dataset/val/labels/GBIAH_097.png',\n",
       " '../dataset/val/labels/GBIAH_083.png',\n",
       " '../dataset/val/labels/GBIAH_087.png',\n",
       " '../dataset/val/labels/GBIAH_093.png',\n",
       " '../dataset/val/labels/GBIAH_078.png',\n",
       " '../dataset/val/labels/GBIAH_118.png',\n",
       " '../dataset/val/labels/GBIAH_119.png',\n",
       " '../dataset/val/labels/GBIAH_079.png',\n",
       " '../dataset/val/labels/GBIAH_092.png',\n",
       " '../dataset/val/labels/GBIAH_086.png',\n",
       " '../dataset/val/labels/GBIAH_090.png',\n",
       " '../dataset/val/labels/GBIAH_084.png',\n",
       " '../dataset/val/labels/GBIAH_085.png',\n",
       " '../dataset/val/labels/GBIAH_091.png']"
      ]
     },
     "execution_count": 13,
     "metadata": {},
     "output_type": "execute_result"
    }
   ],
   "source": [
    "label = glob.glob('../dataset/val/labels/*.png')\n",
    "label"
   ]
  },
  {
   "cell_type": "code",
   "execution_count": 14,
   "id": "1b213efb",
   "metadata": {},
   "outputs": [
    {
     "data": {
      "text/plain": [
       "'../dataset/val/labels/GBIAH_088.png'"
      ]
     },
     "execution_count": 14,
     "metadata": {},
     "output_type": "execute_result"
    }
   ],
   "source": [
    "l = label[0]\n",
    "l"
   ]
  },
  {
   "cell_type": "code",
   "execution_count": 10,
   "id": "4fa4e0f6",
   "metadata": {},
   "outputs": [],
   "source": [
    "image = cv2.imread(l, cv2.IMREAD_GRAYSCALE)\n",
    "\n",
    "image[image == 1] *= 255\n",
    "\n",
    "Image.fromarray(image).show()"
   ]
  },
  {
   "cell_type": "code",
   "execution_count": 15,
   "id": "d71db1de",
   "metadata": {},
   "outputs": [
    {
     "name": "stdout",
     "output_type": "stream",
     "text": [
      "GBIAH_088.png\n",
      "GBIAH_077.png\n",
      "GBIAH_103.png\n",
      "GBIAH_117.png\n",
      "GBIAH_116.png\n",
      "GBIAH_102.png\n",
      "GBIAH_076.png\n",
      "GBIAH_089.png\n",
      "GBIAH_074.png\n",
      "GBIAH_114.png\n",
      "GBIAH_100.png\n",
      "GBIAH_101.png\n",
      "GBIAH_115.png\n",
      "GBIAH_075.png\n",
      "GBIAH_071.png\n",
      "GBIAH_111.png\n",
      "GBIAH_105.png\n",
      "GBIAH_104.png\n",
      "GBIAH_110.png\n",
      "GBIAH_099.png\n",
      "GBIAH_072.png\n",
      "GBIAH_106.png\n",
      "GBIAH_112.png\n",
      "GBIAH_113.png\n",
      "GBIAH_107.png\n",
      "GBIAH_073.png\n",
      "GBIAH_098.png\n",
      "GBIAH_095.png\n",
      "GBIAH_081.png\n",
      "GBIAH_080.png\n",
      "GBIAH_094.png\n",
      "GBIAH_082.png\n",
      "GBIAH_096.png\n",
      "GBIAH_109.png\n",
      "GBIAH_108.png\n",
      "GBIAH_097.png\n",
      "GBIAH_083.png\n",
      "GBIAH_087.png\n",
      "GBIAH_093.png\n",
      "GBIAH_078.png\n",
      "GBIAH_118.png\n",
      "GBIAH_119.png\n",
      "GBIAH_079.png\n",
      "GBIAH_092.png\n",
      "GBIAH_086.png\n",
      "GBIAH_090.png\n",
      "GBIAH_084.png\n",
      "GBIAH_085.png\n"
     ]
    },
    {
     "ename": "error",
     "evalue": "OpenCV(4.10.0) /private/var/folders/k1/30mswbxs7r1g6zwn8y4fyt500000gp/T/abs_f95ctcepup/croot/opencv-suite_1743031217353/work/modules/imgcodecs/src/loadsave.cpp:79: error: (-215:Assertion failed) pixels <= CV_IO_MAX_IMAGE_PIXELS in function 'validateInputImageSize'\n",
     "output_type": "error",
     "traceback": [
      "\u001b[0;31m---------------------------------------------------------------------------\u001b[0m",
      "\u001b[0;31merror\u001b[0m                                     Traceback (most recent call last)",
      "Cell \u001b[0;32mIn[15], line 2\u001b[0m\n\u001b[1;32m      1\u001b[0m \u001b[38;5;28;01mfor\u001b[39;00m label_path \u001b[38;5;129;01min\u001b[39;00m label:\n\u001b[0;32m----> 2\u001b[0m     binary_mask \u001b[38;5;241m=\u001b[39m \u001b[43mcv2\u001b[49m\u001b[38;5;241;43m.\u001b[39;49m\u001b[43mimread\u001b[49m\u001b[43m(\u001b[49m\u001b[43mlabel_path\u001b[49m\u001b[43m,\u001b[49m\u001b[43m \u001b[49m\u001b[43mcv2\u001b[49m\u001b[38;5;241;43m.\u001b[39;49m\u001b[43mIMREAD_GRAYSCALE\u001b[49m\u001b[43m)\u001b[49m\n\u001b[1;32m      4\u001b[0m     binary_mask[binary_mask \u001b[38;5;241m==\u001b[39m \u001b[38;5;241m1\u001b[39m] \u001b[38;5;241m*\u001b[39m\u001b[38;5;241m=\u001b[39m \u001b[38;5;241m255\u001b[39m\n\u001b[1;32m      5\u001b[0m     visualized_image \u001b[38;5;241m=\u001b[39m Image\u001b[38;5;241m.\u001b[39mfromarray(binary_mask)\n",
      "\u001b[0;31merror\u001b[0m: OpenCV(4.10.0) /private/var/folders/k1/30mswbxs7r1g6zwn8y4fyt500000gp/T/abs_f95ctcepup/croot/opencv-suite_1743031217353/work/modules/imgcodecs/src/loadsave.cpp:79: error: (-215:Assertion failed) pixels <= CV_IO_MAX_IMAGE_PIXELS in function 'validateInputImageSize'\n"
     ]
    }
   ],
   "source": [
    "for label_path in label:\n",
    "    binary_mask = cv2.imread(label_path, cv2.IMREAD_GRAYSCALE)\n",
    "    \n",
    "    binary_mask[binary_mask == 1] *= 255\n",
    "    visualized_image = Image.fromarray(binary_mask)\n",
    "    file_name = label_path.split('/')[-1]\n",
    "    print(file_name)\n",
    "    visualized_image.save(f'./label_visualize/{file_name}')"
   ]
  },
  {
   "cell_type": "code",
   "execution_count": null,
   "id": "6da2b4ed",
   "metadata": {},
   "outputs": [],
   "source": []
  }
 ],
 "metadata": {
  "kernelspec": {
   "display_name": "sklearn",
   "language": "python",
   "name": "python3"
  },
  "language_info": {
   "codemirror_mode": {
    "name": "ipython",
    "version": 3
   },
   "file_extension": ".py",
   "mimetype": "text/x-python",
   "name": "python",
   "nbconvert_exporter": "python",
   "pygments_lexer": "ipython3",
   "version": "3.10.9"
  }
 },
 "nbformat": 4,
 "nbformat_minor": 5
}
