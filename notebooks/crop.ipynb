{
 "cells": [
  {
   "cell_type": "code",
   "execution_count": 1,
   "metadata": {},
   "outputs": [],
   "source": [
    "import glob\n",
    "import os\n",
    "import matplotlib.pyplot as plt\n",
    "import numpy as np\n",
    "import cv2\n",
    "from PIL import Image"
   ]
  },
  {
   "cell_type": "code",
   "execution_count": 2,
   "metadata": {},
   "outputs": [
    {
     "data": {
      "text/plain": [
       "['../dataset/pred/pad/image/GBIAH_015.jpg',\n",
       " '../dataset/pred/pad/image/GBIAH_067.jpg',\n",
       " '../dataset/pred/pad/image/GBIAH_021.jpg']"
      ]
     },
     "execution_count": 2,
     "metadata": {},
     "output_type": "execute_result"
    }
   ],
   "source": [
    "img_file = glob.glob('../dataset/pred/pad/image/*.jpg')\n",
    "img_file"
   ]
  },
  {
   "cell_type": "code",
   "execution_count": 3,
   "metadata": {},
   "outputs": [
    {
     "data": {
      "text/plain": [
       "['../dataset/pred/pad/label/GBIAH_015.png',\n",
       " '../dataset/pred/pad/label/GBIAH_067.png',\n",
       " '../dataset/pred/pad/label/GBIAH_021.png']"
      ]
     },
     "execution_count": 3,
     "metadata": {},
     "output_type": "execute_result"
    }
   ],
   "source": [
    "label_file = glob.glob('../dataset/pred/pad/label/*.png')\n",
    "label_file"
   ]
  },
  {
   "cell_type": "code",
   "execution_count": 49,
   "metadata": {},
   "outputs": [
    {
     "data": {
      "text/plain": [
       "'../dataset/pred/pad/image/GBIAH_021.jpg'"
      ]
     },
     "execution_count": 49,
     "metadata": {},
     "output_type": "execute_result"
    }
   ],
   "source": [
    "img_file[2]"
   ]
  },
  {
   "cell_type": "code",
   "execution_count": 40,
   "metadata": {},
   "outputs": [
    {
     "data": {
      "text/plain": [
       "'../dataset/pred/pad/label/GBIAH_021.png'"
      ]
     },
     "execution_count": 40,
     "metadata": {},
     "output_type": "execute_result"
    }
   ],
   "source": [
    "label =label_file[2]\n",
    "label\n"
   ]
  },
  {
   "cell_type": "code",
   "execution_count": 41,
   "metadata": {},
   "outputs": [],
   "source": [
    "label = Image.open(label)\n"
   ]
  },
  {
   "cell_type": "code",
   "execution_count": 42,
   "metadata": {},
   "outputs": [
    {
     "data": {
      "text/plain": [
       "(10320, 6468)"
      ]
     },
     "execution_count": 42,
     "metadata": {},
     "output_type": "execute_result"
    }
   ],
   "source": [
    "l = np.array(label)\n",
    "l.shape"
   ]
  },
  {
   "cell_type": "code",
   "execution_count": 43,
   "metadata": {},
   "outputs": [
    {
     "data": {
      "text/plain": [
       "array([[0, 0, 0, ..., 0, 0, 0],\n",
       "       [0, 0, 0, ..., 0, 0, 0],\n",
       "       [0, 0, 0, ..., 0, 0, 0],\n",
       "       ...,\n",
       "       [0, 0, 0, ..., 0, 0, 0],\n",
       "       [0, 0, 0, ..., 0, 0, 0],\n",
       "       [0, 0, 0, ..., 0, 0, 0]], shape=(10320, 6468), dtype=uint8)"
      ]
     },
     "execution_count": 43,
     "metadata": {},
     "output_type": "execute_result"
    }
   ],
   "source": [
    "l\n"
   ]
  },
  {
   "cell_type": "code",
   "execution_count": 50,
   "metadata": {},
   "outputs": [],
   "source": [
    "Image.MAX_IMAGE_PIXELS = None\n",
    "\n",
    "img = Image.open(img_file[2])\n",
    "# img.show()"
   ]
  },
  {
   "cell_type": "code",
   "execution_count": 51,
   "metadata": {},
   "outputs": [
    {
     "data": {
      "text/plain": [
       "(10320, 6468, 3)"
      ]
     },
     "execution_count": 51,
     "metadata": {},
     "output_type": "execute_result"
    }
   ],
   "source": [
    "img1 = np.array(img)\n",
    "img1.shape"
   ]
  },
  {
   "cell_type": "code",
   "execution_count": 52,
   "metadata": {},
   "outputs": [],
   "source": [
    "height, width, _ = img1.shape\n",
    "\n",
    "\n",
    "pad_height = (1024 - (height % 1024)) % 1024\n",
    "pad_width = (1024 - (width % 1024)) % 1024\n",
    "\n",
    "# 패딩 추가 (이미지)\n",
    "padded_img = np.pad(img1, ((0, pad_height), (0, pad_width), (0, 0)), mode='constant', constant_values=0)\n",
    "\n",
    "padded_height, padded_width, _ = padded_img.shape\n",
    "\n",
    "# 1024 크기로 자르기\n",
    "tiles = []\n",
    "for i in range(0, padded_height, 1024):\n",
    "    for j in range(0, padded_width, 1024):\n",
    "        tile = padded_img[i:i+1024, j:j+1024]\n",
    "        tiles.append(tile)\n",
    "\n",
    "# 저장 (예: 파일 이름에 인덱스를 붙여 저장)\n",
    "for idx, tile in enumerate(tiles):\n",
    "    tile_img = Image.fromarray(tile)\n",
    "    tile_img.save(f'GBIAH_021_{idx:03d}.jpg')"
   ]
  },
  {
   "cell_type": "code",
   "execution_count": 53,
   "metadata": {},
   "outputs": [],
   "source": [
    "# 패딩 추가 (라벨)\n",
    "padded_label = np.pad(l, ((0, pad_height), (0, pad_width)), mode='constant', constant_values=0)\n",
    "\n",
    "# 1024 크기로 자르기\n",
    "label_tiles = []\n",
    "for i in range(0, padded_height, 1024):\n",
    "    for j in range(0, padded_width, 1024):\n",
    "        tile_label = padded_label[i:i+1024, j:j+1024]\n",
    "        label_tiles.append(tile_label)\n",
    "\n",
    "# 저장 (예: 파일 이름에 인덱스를 붙여 저장)\n",
    "for idx, tile_label in enumerate(label_tiles):\n",
    "    tile_label_img = Image.fromarray(tile_label)\n",
    "    tile_label_img.save(f'GBIAH_021_{idx:03d}.png')\n"
   ]
  },
  {
   "cell_type": "code",
   "execution_count": null,
   "metadata": {},
   "outputs": [],
   "source": []
  }
 ],
 "metadata": {
  "kernelspec": {
   "display_name": "sklearn",
   "language": "python",
   "name": "python3"
  },
  "language_info": {
   "codemirror_mode": {
    "name": "ipython",
    "version": 3
   },
   "file_extension": ".py",
   "mimetype": "text/x-python",
   "name": "python",
   "nbconvert_exporter": "python",
   "pygments_lexer": "ipython3",
   "version": "3.10.9"
  }
 },
 "nbformat": 4,
 "nbformat_minor": 2
}
